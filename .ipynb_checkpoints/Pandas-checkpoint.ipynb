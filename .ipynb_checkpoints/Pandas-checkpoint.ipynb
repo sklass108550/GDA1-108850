{
 "cells": [
  {
   "cell_type": "markdown",
   "id": "53d9d518-78bc-4f79-8dcd-488c762e4147",
   "metadata": {},
   "source": [
    "# **Introduction to Pandas DataFrames**\n",
    "\n",
    "![Panda](dist/Pandas.webp)\n",
    "\n",
    "[Pandas](https://pandas.pydata.org/) is a powerful and versatile library for Python, designed primarily for data manipulation and analysis. To quote from Nvidia’s website:\n",
    "\n",
    "\n",
    "\n",
    ">Pandas is the most popular software library for data manipulation and data analysis for the Python programming language. ([www.nvidia.com](https://www.nvidia.com/en-us/glossary/pandas-python/))\n",
    "\n",
    "Here is an (incomplete) list of some key functionalities provided by Pandas:\n",
    "\n",
    "1. **Data Structures**\n",
    "    - Series: One-dimensional labeled array capable of holding data of any type.\n",
    "    - DataFrame: Two-dimensional, size-mutable, potentially heterogeneous tabular data structure with labeled axes (rows and columns).\n",
    "3. **Data Manipulation**\n",
    "Data Selection and Indexing: Access data via labels, indices, or boolean masks (.loc, .iloc, .at, .iat).\n",
    "Filtering: Filter data based on conditions or queries.\n",
    "Sorting: Sort data by labels or values.\n",
    "Handling Missing Data: Identify, fill, or drop missing values (isnull, dropna, fillna).\n",
    "Data Cleaning\n",
    "Dropping Duplicates: Remove duplicate rows or columns.\n",
    "Replacing Values: Replace specific values in the DataFrame.\n",
    "String Operations: Perform operations on string data, like splitting, replacing, and pattern matching (str.split, str.replace).\n",
    "Aggregation and Grouping\n",
    "Group By: Split data into groups based on criteria, and perform aggregate functions like sum, mean, or custom operations.\n",
    "Pivot Tables: Create a pivot table to summarize data.\n",
    "Merging and Joining\n",
    "Concatenation: Combine multiple DataFrames along a particular axis.\n",
    "Merging: Merge DataFrames similar to SQL joins (merge, join).\n",
    "Time Series\n",
    "Datetime Conversion: Convert date and time data to a datetime object.\n",
    "Resampling: Aggregate data over a time period.\n",
    "Time-based Indexing: Access and manipulate time-series data easily with date indexing.\n",
    "Statistical and Mathematical Operations\n",
    "Descriptive Statistics: Compute summary statistics for DataFrame columns.\n",
    "Correlation/ Covariance: Calculate the pairwise correlation or covariance between columns.\n",
    "Cumulative Operations: Perform cumulative operations on data.\n",
    "At the heart of Pandas lies the DataFrame, a two-dimensional labeled data structure with columns of potentially different types, similar to a table in a relational database or an Excel spreadsheet. Understanding DataFrames is crucial for anyone looking to perform data analysis in Python.\n"
   ]
  },
  {
   "cell_type": "code",
   "execution_count": null,
   "id": "15747006-2f03-4a3f-b286-6992f11329c9",
   "metadata": {},
   "outputs": [],
   "source": []
  },
  {
   "cell_type": "code",
   "execution_count": null,
   "id": "bd6b6ee0-17b5-4238-a74e-e20ba06ae9a4",
   "metadata": {},
   "outputs": [],
   "source": []
  },
  {
   "cell_type": "code",
   "execution_count": null,
   "id": "4e509125-8191-494b-bc3a-859a81ca6f7f",
   "metadata": {},
   "outputs": [],
   "source": []
  }
 ],
 "metadata": {
  "kernelspec": {
   "display_name": "Python [conda env:unigis]",
   "language": "python",
   "name": "conda-env-unigis-py"
  },
  "language_info": {
   "codemirror_mode": {
    "name": "ipython",
    "version": 3
   },
   "file_extension": ".py",
   "mimetype": "text/x-python",
   "name": "python",
   "nbconvert_exporter": "python",
   "pygments_lexer": "ipython3",
   "version": "3.11.13"
  }
 },
 "nbformat": 4,
 "nbformat_minor": 5
}
